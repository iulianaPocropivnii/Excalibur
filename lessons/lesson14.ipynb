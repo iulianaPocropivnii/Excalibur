{
 "cells": [
  {
   "cell_type": "markdown",
   "id": "a5ae8837",
   "metadata": {},
   "source": [
    "## Supervised Learning 2: Multiple Regression and Classification"
   ]
  },
  {
   "cell_type": "markdown",
   "id": "ab497b0d",
   "metadata": {},
   "source": [
    "### Importing Libraries"
   ]
  },
  {
   "cell_type": "code",
   "execution_count": 14,
   "id": "e73309c2",
   "metadata": {},
   "outputs": [],
   "source": [
    "import pandas as pd\n",
    "import numpy as np\n",
    "import matplotlib.pyplot as plt\n",
    "import seaborn as sns\n",
    "from sklearn.model_selection import train_test_split\n",
    "from sklearn.preprocessing import StandardScaler\n",
    "from sklearn.metrics import r2_score, accuracy_score\n",
    "from sklearn.linear_model import LinearRegression, LogisticRegression\n",
    "import math"
   ]
  },
  {
   "cell_type": "markdown",
   "id": "0cce3948",
   "metadata": {},
   "source": [
    "In the previous lecture, we introduced linear regression with a practical example focused on predicting house prices based on a single feature (house area). Now, let’s expand this approach by incorporating multiple features to make more accurate house price predictions."
   ]
  },
  {
   "cell_type": "markdown",
   "id": "31fc7c4b",
   "metadata": {},
   "source": [
    "## Table of Contents\n",
    "\n",
    "1. [Data Loading and Inspection](#data-loading)\n",
    "2. [Data Vizualization](#data-visualization)\n",
    "3. [Multiple Linear Regression Definition](#multiple-regression-definition)\n",
    "    1. [Cost Function](#cost-function)\n",
    "    2. [Gradient Descent Algorithm](#gradient-descent-algorithm)\n",
    "4. [Data Transformation and Engineering](#data-transformation)\n",
    "5. [Training Model](#training-model)\n",
    "6. [Scikit-learn Library for Linear Regression](#sklearn)\n",
    "7. [Classification](#classification)"
   ]
  },
  {
   "cell_type": "markdown",
   "id": "84152e00",
   "metadata": {},
   "source": [
    "## Data Loading and Inspection <a id=\"data-loading\">"
   ]
  },
  {
   "cell_type": "markdown",
   "id": "07dd52f1",
   "metadata": {},
   "source": [
    "While the dataset in the previous lecture was synthetically generated to demonstrate the basics of linear regression, in this lecture, we’ll work with a real-world dataset containing over 1,000 house prices from the USA. "
   ]
  },
  {
   "cell_type": "markdown",
   "id": "8374ca2e",
   "metadata": {},
   "source": [
    "Below you can find a brief description of it's columns:\n",
    "- OverallQual: Overall material and finish quality\n",
    "- GrLivArea: Above ground living area in square feet\n",
    "- BedroomAbgGr: Bedrooms above ground (does NOT include basement bedrooms)\n",
    "- GarageArea: Size of garage in square feet\n",
    "- YearBuilt: Original construction year\n",
    "- KitchenQual: Kitchen quality\n",
    "- SalePrice: the property's sale price in dollars. This is the target variable that we're trying to predict.\n"
   ]
  },
  {
   "cell_type": "code",
   "execution_count": 15,
   "id": "49be2321",
   "metadata": {},
   "outputs": [],
   "source": [
    "df = pd.read_csv('csv/house_prices_multiple_features.csv')"
   ]
  },
  {
   "cell_type": "code",
   "execution_count": 16,
   "id": "888bfd69",
   "metadata": {},
   "outputs": [
    {
     "data": {
      "text/html": [
       "<div>\n",
       "<style scoped>\n",
       "    .dataframe tbody tr th:only-of-type {\n",
       "        vertical-align: middle;\n",
       "    }\n",
       "\n",
       "    .dataframe tbody tr th {\n",
       "        vertical-align: top;\n",
       "    }\n",
       "\n",
       "    .dataframe thead th {\n",
       "        text-align: right;\n",
       "    }\n",
       "</style>\n",
       "<table border=\"1\" class=\"dataframe\">\n",
       "  <thead>\n",
       "    <tr style=\"text-align: right;\">\n",
       "      <th></th>\n",
       "      <th>OverallQual</th>\n",
       "      <th>GrLivArea</th>\n",
       "      <th>BedroomAbvGr</th>\n",
       "      <th>GarageArea</th>\n",
       "      <th>YearBuilt</th>\n",
       "      <th>SalePrice</th>\n",
       "    </tr>\n",
       "  </thead>\n",
       "  <tbody>\n",
       "    <tr>\n",
       "      <th>count</th>\n",
       "      <td>1460.000000</td>\n",
       "      <td>1460.000000</td>\n",
       "      <td>1460.000000</td>\n",
       "      <td>1460.000000</td>\n",
       "      <td>1460.000000</td>\n",
       "      <td>1460.000000</td>\n",
       "    </tr>\n",
       "    <tr>\n",
       "      <th>mean</th>\n",
       "      <td>6.099315</td>\n",
       "      <td>1515.463699</td>\n",
       "      <td>2.866438</td>\n",
       "      <td>472.980137</td>\n",
       "      <td>1971.267808</td>\n",
       "      <td>180921.195890</td>\n",
       "    </tr>\n",
       "    <tr>\n",
       "      <th>std</th>\n",
       "      <td>1.382997</td>\n",
       "      <td>525.480383</td>\n",
       "      <td>0.815778</td>\n",
       "      <td>213.804841</td>\n",
       "      <td>30.202904</td>\n",
       "      <td>79442.502883</td>\n",
       "    </tr>\n",
       "    <tr>\n",
       "      <th>min</th>\n",
       "      <td>1.000000</td>\n",
       "      <td>334.000000</td>\n",
       "      <td>0.000000</td>\n",
       "      <td>0.000000</td>\n",
       "      <td>1872.000000</td>\n",
       "      <td>34900.000000</td>\n",
       "    </tr>\n",
       "    <tr>\n",
       "      <th>25%</th>\n",
       "      <td>5.000000</td>\n",
       "      <td>1129.500000</td>\n",
       "      <td>2.000000</td>\n",
       "      <td>334.500000</td>\n",
       "      <td>1954.000000</td>\n",
       "      <td>129975.000000</td>\n",
       "    </tr>\n",
       "    <tr>\n",
       "      <th>50%</th>\n",
       "      <td>6.000000</td>\n",
       "      <td>1464.000000</td>\n",
       "      <td>3.000000</td>\n",
       "      <td>480.000000</td>\n",
       "      <td>1973.000000</td>\n",
       "      <td>163000.000000</td>\n",
       "    </tr>\n",
       "    <tr>\n",
       "      <th>75%</th>\n",
       "      <td>7.000000</td>\n",
       "      <td>1776.750000</td>\n",
       "      <td>3.000000</td>\n",
       "      <td>576.000000</td>\n",
       "      <td>2000.000000</td>\n",
       "      <td>214000.000000</td>\n",
       "    </tr>\n",
       "    <tr>\n",
       "      <th>max</th>\n",
       "      <td>10.000000</td>\n",
       "      <td>5642.000000</td>\n",
       "      <td>8.000000</td>\n",
       "      <td>1418.000000</td>\n",
       "      <td>2010.000000</td>\n",
       "      <td>755000.000000</td>\n",
       "    </tr>\n",
       "  </tbody>\n",
       "</table>\n",
       "</div>"
      ],
      "text/plain": [
       "       OverallQual    GrLivArea  BedroomAbvGr   GarageArea    YearBuilt  \\\n",
       "count  1460.000000  1460.000000   1460.000000  1460.000000  1460.000000   \n",
       "mean      6.099315  1515.463699      2.866438   472.980137  1971.267808   \n",
       "std       1.382997   525.480383      0.815778   213.804841    30.202904   \n",
       "min       1.000000   334.000000      0.000000     0.000000  1872.000000   \n",
       "25%       5.000000  1129.500000      2.000000   334.500000  1954.000000   \n",
       "50%       6.000000  1464.000000      3.000000   480.000000  1973.000000   \n",
       "75%       7.000000  1776.750000      3.000000   576.000000  2000.000000   \n",
       "max      10.000000  5642.000000      8.000000  1418.000000  2010.000000   \n",
       "\n",
       "           SalePrice  \n",
       "count    1460.000000  \n",
       "mean   180921.195890  \n",
       "std     79442.502883  \n",
       "min     34900.000000  \n",
       "25%    129975.000000  \n",
       "50%    163000.000000  \n",
       "75%    214000.000000  \n",
       "max    755000.000000  "
      ]
     },
     "execution_count": 16,
     "metadata": {},
     "output_type": "execute_result"
    }
   ],
   "source": [
    "df.describe()"
   ]
  },
  {
   "cell_type": "code",
   "execution_count": 17,
   "id": "12f059a4",
   "metadata": {},
   "outputs": [
    {
     "name": "stdout",
     "output_type": "stream",
     "text": [
      "<class 'pandas.core.frame.DataFrame'>\n",
      "RangeIndex: 1460 entries, 0 to 1459\n",
      "Data columns (total 7 columns):\n",
      " #   Column        Non-Null Count  Dtype \n",
      "---  ------        --------------  ----- \n",
      " 0   OverallQual   1460 non-null   int64 \n",
      " 1   GrLivArea     1460 non-null   int64 \n",
      " 2   BedroomAbvGr  1460 non-null   int64 \n",
      " 3   GarageArea    1460 non-null   int64 \n",
      " 4   YearBuilt     1460 non-null   int64 \n",
      " 5   KitchenQual   1460 non-null   object\n",
      " 6   SalePrice     1460 non-null   int64 \n",
      "dtypes: int64(6), object(1)\n",
      "memory usage: 80.0+ KB\n"
     ]
    }
   ],
   "source": [
    "df.info()"
   ]
  },
  {
   "cell_type": "markdown",
   "id": "552cdc32",
   "metadata": {},
   "source": [
    "**Observation**: The dataset contains 1,460 rows, and there are no missing values. The `KitchenQual` column is categorical."
   ]
  },
  {
   "cell_type": "markdown",
   "id": "142ddce9",
   "metadata": {},
   "source": [
    "## Data Visualization<a id=\"data-visualization\">"
   ]
  },
  {
   "cell_type": "markdown",
   "id": "303bfe0a",
   "metadata": {},
   "source": [
    "Let's start with the visualization of the relationship between GrLivArea and SalePrice."
   ]
  },
  {
   "cell_type": "code",
   "execution_count": 18,
   "id": "fa74290a",
   "metadata": {},
   "outputs": [
    {
     "data": {
      "text/plain": [
       "Text(0, 0.5, 'SalePrice')"
      ]
     },
     "execution_count": 18,
     "metadata": {},
     "output_type": "execute_result"
    },
    {
     "data": {
      "image/png": "[encoded data removed]",
      "text/plain": [
       "<Figure size 640x480 with 1 Axes>"
      ]
     },
     "metadata": {},
     "output_type": "display_data"
    }
   ],
   "source": [
    "plt.scatter(df['GrLivArea'], df['SalePrice'])\n",
    "\n",
    "plt.xlabel(\"GrLivArea\")\n",
    "plt.ylabel(\"SalePrice\")"
   ]
  },
  {
   "cell_type": "markdown",
   "id": "3637bd7f",
   "metadata": {},
   "source": [
    "It can be seen that as house area increase, the sale price also becomes higher. Next, let's see the relationship between GarageArea and SalePrice."
   ]
  },
  {
   "cell_type": "code",
   "execution_count": 19,
   "id": "a55ed223",
   "metadata": {},
   "outputs": [
    {
     "data": {
      "text/plain": [
       "Text(0, 0.5, 'SalePrice')"
      ]
     },
     "execution_count": 19,
     "metadata": {},
     "output_type": "execute_result"
    },
    {
     "data": {
      "image/png": "[encoded data removed]",
      "text/plain": [
       "<Figure size 640x480 with 1 Axes>"
      ]
     },
     "metadata": {},
     "output_type": "display_data"
    }
   ],
   "source": [
    "plt.scatter(df['GarageArea'], df['SalePrice'])\n",
    "\n",
    "plt.xlabel(\"GarageArea\")\n",
    "plt.ylabel(\"SalePrice\")"
   ]
  },
  {
   "cell_type": "markdown",
   "id": "3814a905",
   "metadata": {},
   "source": [
    "Although on average SalePrice tends to increase with higher GarageArea, the linear relationship is not that strong as between GrLivArea and SalePrice.\n",
    "\n",
    "Next, let's visualize the relationship between YearBuilt and SalePrice."
   ]
  },
  {
   "cell_type": "code",
   "execution_count": 20,
   "id": "50865f4d",
   "metadata": {},
   "outputs": [
    {
     "data": {
      "text/plain": [
       "Text(0, 0.5, 'SalePrice')"
      ]
     },
     "execution_count": 20,
     "metadata": {},
     "output_type": "execute_result"
    },
    {
     "data": {
      "image/png": "[encoded data removed]",
      "text/plain": [
       "<Figure size 640x480 with 1 Axes>"
      ]
     },
     "metadata": {},
     "output_type": "display_data"
    }
   ],
   "source": [
    "plt.scatter(df['YearBuilt'], df['SalePrice'])\n",
    "\n",
    "plt.xlabel(\"YearBuilt\")\n",
    "plt.ylabel(\"SalePrice\")"
   ]
  },
  {
   "cell_type": "markdown",
   "id": "3abcb4a6",
   "metadata": {},
   "source": [
    "The scatter plot shows that newer houses tend to have higher sale prices, but the relationship isn't strictly linear. There's more variability in prices for newer houses, indicating other factors may influence sale price, especially for recently built homes."
   ]
  },
  {
   "cell_type": "markdown",
   "id": "84f0004b",
   "metadata": {},
   "source": [
    "`OverallQual` is an ordinal variable, meaning it reflects a ranked level of overall house quality and it only takes on a predefined set of values.\n",
    "\n",
    "To better understand the relationship between `OverallQual` and `SalePrice`, we can visualize this with a boxplot, which will show the distribution of sale prices across different overall quality levels. This will help us observe how the target variable (`SalePrice`) varies based on the ranked quality levels.\n",
    "\n",
    "Let's plot the boxplot for `SalePrice` grouped by `OverallQual`.\n",
    "\n",
    "*(A boxplot represents the distribution of data by showing the median, quartiles, and potential outliers, allowing us to easily compare the spread and central tendency across different groups)*"
   ]
  },
  {
   "cell_type": "code",
   "execution_count": 21,
   "id": "5500ffb5",
   "metadata": {},
   "outputs": [
    {
     "data": {
      "image/png": "[encoded data removed]",
      "text/plain": [
       "<Figure size 1000x600 with 1 Axes>"
      ]
     },
     "metadata": {},
     "output_type": "display_data"
    }
   ],
   "source": [
    "fig, ax = plt.subplots(figsize=(10, 6))\n",
    "\n",
    "_ = sns.boxplot(data=df, x='OverallQual', y='SalePrice', ax=ax)"
   ]
  },
  {
   "cell_type": "markdown",
   "id": "cf404ccc",
   "metadata": {},
   "source": [
    "The boxplot clearly shows a positive relationship between `OverallQual` and `SalePrice`. As the `OverallQual` increases, the median `SalePrice` also increases significantly. \n",
    "\n",
    "Let's do know a similar boxplot for `BedroomAbvGr` features."
   ]
  },
  {
   "cell_type": "code",
   "execution_count": 22,
   "id": "55d70efe",
   "metadata": {},
   "outputs": [
    {
     "data": {
      "image/png": "[encoded data removed]",
      "text/plain": [
       "<Figure size 1000x600 with 1 Axes>"
      ]
     },
     "metadata": {},
     "output_type": "display_data"
    }
   ],
   "source": [
    "fig, ax = plt.subplots(figsize=(10, 6))\n",
    "\n",
    "_ = sns.boxplot(data=df, x='BedroomAbvGr', y='SalePrice', ax=ax)"
   ]
  },
  {
   "cell_type": "markdown",
   "id": "c06b55c1",
   "metadata": {},
   "source": [
    "The relationship between BedroomAbgGr and SalePrice is not that evident. Let's inspect how much houses we have for each distinct BedroomAbvGr value."
   ]
  },
  {
   "cell_type": "code",
   "execution_count": 23,
   "id": "7c26d387",
   "metadata": {},
   "outputs": [
    {
     "data": {
      "text/plain": [
       "BedroomAbvGr\n",
       "3    804\n",
       "2    358\n",
       "4    213\n",
       "1     50\n",
       "5     21\n",
       "6      7\n",
       "0      6\n",
       "8      1\n",
       "Name: count, dtype: int64"
      ]
     },
     "execution_count": 23,
     "metadata": {},
     "output_type": "execute_result"
    }
   ],
   "source": [
    "df['BedroomAbvGr'].value_counts()"
   ]
  },
  {
   "cell_type": "markdown",
   "id": "c6d6784a",
   "metadata": {},
   "source": [
    "The number of houses with `BedroomAbgGr` equal to 0, 5, 6 and 8 is considerably low, which makes it insufficient to estimate a reliable relationship between BedroomAbvGr and SalePrice for these values. As a result, any patterns observed for these categories may not be statistically significant and should be interpreted with caution."
   ]
  },
  {
   "cell_type": "code",
   "execution_count": 24,
   "id": "85ffbd24",
   "metadata": {},
   "outputs": [
    {
     "data": {
      "image/png": "[encoded data removed]",
      "text/plain": [
       "<Figure size 1000x600 with 1 Axes>"
      ]
     },
     "metadata": {},
     "output_type": "display_data"
    }
   ],
   "source": [
    "fig, ax = plt.subplots(figsize=(10, 6))\n",
    "\n",
    "_ = sns.boxplot(data=df, x='KitchenQual', y='SalePrice', ax=ax)"
   ]
  },
  {
   "cell_type": "code",
   "execution_count": 25,
   "id": "975651da",
   "metadata": {},
   "outputs": [
    {
     "data": {
      "image/png": "[encoded data removed]",
      "text/plain": [
       "<Figure size 640x480 with 2 Axes>"
      ]
     },
     "metadata": {},
     "output_type": "display_data"
    }
   ],
   "source": [
    "# Select only numeric columns\n",
    "numeric_df = df.select_dtypes(include=['number'])\n",
    "\n",
    "# Compute the correlation matrix\n",
    "correlation_matrix = numeric_df.corr()\n",
    "\n",
    "# Generate the heatmap\n",
    "sns.heatmap(correlation_matrix, annot=True, cmap='coolwarm', fmt='.2f', linewidths=0.5)\n",
    "plt.title('Correlation Matrix Heatmap')\n",
    "plt.show()\n"
   ]
  },
  {
   "cell_type": "markdown",
   "id": "e07e6779",
   "metadata": {},
   "source": [
    "Once we understood our data, let's train a linear regression model on it to be able to make the predictions."
   ]
  },
  {
   "cell_type": "markdown",
   "id": "2575790f",
   "metadata": {},
   "source": [
    "## Multiple Linear Regression Definition <a id=\"multiple-regression-definition\">"
   ]
  },
  {
   "cell_type": "markdown",
   "id": "cc1246cc",
   "metadata": {},
   "source": [
    "The formula for regression with multiple variables can be expressed as:\n",
    "\n",
    "$$\n",
    "f_{w, b}(x) = w_0 x_0 + w_1 x_1 + \\dots + w_{n-1} x_{n-1} + b\n",
    "$$\n",
    "\n",
    "Where:\n",
    "\n",
    "- $f_{w, b}(x)$ is the predicted value\n",
    "- $w_0, w_1, \\dots, w_{n-1}$ are the weights (coefficients) for each feature $x_0, x_1, \\dots, x_{n-1}$\n",
    "- $b$ is the bias (intercept) term\n",
    "- $x_0, x_1, \\dots, x_{n-1}$ are the input features (variables)."
   ]
  },
  {
   "cell_type": "markdown",
   "id": "2484b9f1",
   "metadata": {},
   "source": [
    "The formula can be expressed in vector form as:\n",
    "\n",
    "$$\n",
    "f_{\\mathbf{w}, b}(\\mathbf{x}) = \\mathbf{w} \\cdot \\mathbf{x} + b \n",
    "$$\n",
    "\n",
    "Where:\n",
    "\n",
    "- $\\mathbf{x}$ is the feature vector of a given training example,\n",
    "- $\\mathbf{w}$ is the weight vector corresponding to the features.\n",
    "\n",
    "The vectors are defined as:\n",
    "\n",
    "$$\n",
    "\\mathbf{w} = \\begin{bmatrix} w_0 & w_1 & w_2 & \\dots & w_{n-1} \\end{bmatrix}\n",
    "$$\n",
    "$$\n",
    "\\mathbf{x} = \\begin{bmatrix} x_0 & x_1 & x_2 & \\dots & x_{n-1} \\end{bmatrix}\n",
    "$$\n",
    "\n",
    "In this form, $\\mathbf{w} \\cdot \\mathbf{x}$ represents the dot product of the weight vector $\\mathbf{w}$ and the feature vector $\\mathbf{x}$."
   ]
  },
  {
   "cell_type": "markdown",
   "id": "7496a2c7",
   "metadata": {},
   "source": [
    "Below you can find the implementation of `predict` function for multiple linear regression."
   ]
  },
  {
   "cell_type": "code",
   "execution_count": 26,
   "id": "d40ca834",
   "metadata": {},
   "outputs": [],
   "source": [
    "def predict(x, w, b):\n",
    "    return np.dot(x, w) + b"
   ]
  },
  {
   "cell_type": "markdown",
   "id": "98a1c8b6",
   "metadata": {},
   "source": [
    "### Cost Function for Multiple Variables Linear Regression<a id=\"cost-function\">"
   ]
  },
  {
   "cell_type": "markdown",
   "id": "f4faaca7",
   "metadata": {},
   "source": [
    "The equation for the cost function for multiple variables linear regression is similar as in the single-variable case, the only difference lies in the prediction function, which now incorporates multiple features.\n",
    "\n",
    "\n",
    "$$J(\\mathbf{w}, b) = \\frac{1}{2m} \\sum\\limits_{i = 0}^{m-1} \\left( f_{\\mathbf{w}, b}(\\mathbf{x}^{(i)}) - y^{(i)} \\right)^2 $$\n",
    "\n",
    "where:\n",
    "\n",
    "$$f_{\\mathbf{w}, b}(\\mathbf{x}^{(i)}) = \\mathbf{w} \\cdot  \\mathbf{x}^{(i)} + b $$\n",
    "\n",
    "Here:\n",
    "- $\\mathbf{w} = [w_0, w_1, \\dots, w_{n-1}]$ is the weight vector.\n",
    "- $\\mathbf{x}^{(i)} = [x_0^{(i)}, x_1^{(i)}, \\dots, x_{n-1}^{(i)}]$ is the input feature vector for the $i$-th example.\n",
    "- $y^{(i)}$ is the target value.\n",
    "- $b$ is the bias term.\n",
    "- $m$ is the number of training examples."
   ]
  },
  {
   "cell_type": "code",
   "execution_count": 27,
   "id": "f28257b9",
   "metadata": {},
   "outputs": [],
   "source": [
    "def compute_cost(X, y, w, b):\n",
    "    \"\"\"\n",
    "    Computes the cost (mean squared error) for the linear regression model.\n",
    "\n",
    "    Args:\n",
    "        X (2D ndarray): Input data of shape (m, n), where m is the number of examples and n is the number of features.\n",
    "        y (ndarray): Target values of shape (m,).\n",
    "        w (ndarray): Model parameters (weights) of shape (n,).\n",
    "        b (float): Model parameter (bias) scalar.\n",
    "\n",
    "    Returns:\n",
    "        float: The computed cost (mean squared error).\n",
    "    \"\"\"\n",
    "    m = X.shape[0]\n",
    "    cost = 0\n",
    "    \n",
    "    for i in range(m):\n",
    "        prediction = np.dot(X[i], w) + b\n",
    "        cost += (prediction - y[i])**2\n",
    "    \n",
    "    return cost / (2 * m)"
   ]
  },
  {
   "cell_type": "markdown",
   "id": "6028901a",
   "metadata": {},
   "source": [
    "### Gradient Descent for Multiple Variables Linear Regression<a id=\"gradient-descent-algorithm\">"
   ]
  },
  {
   "cell_type": "markdown",
   "id": "8d0dc1d4",
   "metadata": {},
   "source": [
    "The gradient descent approach remains the same - we update each model parameter by subtracting the partial derivative of the cost function with respect to that parameter, scaled by the learning rate. This ensures the parameters move in the direction of the steepest descent, minimizing the cost function.\n",
    "\n",
    "\n",
    "The update rule is:\n",
    "\n",
    "$$\n",
    "\\begin{align*}\n",
    "\\text{Repeat:} \\quad &\\lbrace \\\\\n",
    "w_j &= w_j - \\alpha \\frac{\\partial J(\\mathbf{w}, b)}{\\partial w_j} \\quad \\text{for } j = 0, \\dots, n-1 \\\\\n",
    "b &= b - \\alpha \\frac{\\partial J(\\mathbf{w}, b)}{\\partial b} \\\\\n",
    "&\\rbrace\n",
    "\\end{align*}\n",
    "$$\n",
    "\n",
    "where the partial derivatives are:\n",
    "\n",
    "$$\n",
    "\\frac{\\partial J(\\mathbf{w}, b)}{\\partial w_j} = \\frac{1}{m} \\sum_{i=0}^{m-1} \\left(f_{\\mathbf{w},b}(\\mathbf{x}^{(i)}) - y^{(i)}\\right) x_j^{(i)}\n",
    "$$\n",
    "\n",
    "$$\n",
    "\\frac{\\partial J(\\mathbf{w}, b)}{\\partial b} = \\frac{1}{m} \\sum_{i=0}^{m-1} \\left(f_{\\mathbf{w},b}(\\mathbf{x}^{(i)}) - y^{(i)}\\right)\n",
    "$$\n",
    "\n",
    "In these equations:\n",
    "- $\\alpha$  is the learning rate,\n",
    "- $f_{\\mathbf{w},b}(\\mathbf{x}^{(i)}) = \\mathbf{w} \\cdot \\mathbf{x}^{(i)} + b$ is the prediction for the $i$-th training example,\n",
    "- $y^{(i)}$ is the target value,\n",
    "- $m$ is the number of training examples."
   ]
  },
  {
   "cell_type": "markdown",
   "id": "8627d7b3",
   "metadata": {},
   "source": [
    "The `compute_gradient` function calculates the partial derivatives of the cost function with respect to the model parameters $w$ (weights) and $b$ (bias). The outer loop iterates over all $m$ training examples, while the inner loop iterates over each feature, accumulating the gradients for $w$ into the $dw$ vector and for $b$ into $db$. These accumulated values are averaged over the number of examples to compute the final gradients.\n",
    "\n"
   ]
  },
  {
   "cell_type": "code",
   "execution_count": 28,
   "id": "bb912bd2",
   "metadata": {},
   "outputs": [],
   "source": [
    "def compute_gradient(X, y, w, b):\n",
    "    \"\"\"\n",
    "    Computes the gradient of the cost function with respect to model parameters w and b.\n",
    "\n",
    "    Args:\n",
    "        X (2D ndarray): Input data of shape (m, n), where m is the number of examples and n is the number of features.\n",
    "        y (ndarray): Target values of shape (m,).\n",
    "        w (ndarray): Model parameters (weights) of shape (n,).\n",
    "        b (float): Model parameter (bias) scalar.\n",
    "\n",
    "    Returns:\n",
    "        tuple: Gradients of cost with respect to b (scalar) and w (ndarray of shape (n,)).\n",
    "    \"\"\"\n",
    "    m, n = X.shape\n",
    "    dw = np.zeros((n,))\n",
    "    db = 0\n",
    "    \n",
    "    for i in range(m):\n",
    "        prediction = np.dot(X[i], w) + b\n",
    "        error = prediction - y[i]\n",
    "        \n",
    "        for j in range(n):\n",
    "            dw[j] += error * X[i, j]\n",
    "            \n",
    "        db += error\n",
    "    \n",
    "    dw /= m\n",
    "    db /= m\n",
    "    \n",
    "    return db, dw"
   ]
  },
  {
   "cell_type": "markdown",
   "id": "65547df1",
   "metadata": {},
   "source": [
    "The `gradient_descent` function iteratively optimizes the model parameters $w$ and $b$ by computing the gradients at each step and updating the parameters. The $dw$ returned by `compute_gradient` is a vector, and the entire $w$ vector is updated simultaneously using vectorized operations. This ensures efficient updates to all weights in one step. \n",
    "\n"
   ]
  },
  {
   "cell_type": "code",
   "execution_count": 29,
   "id": "a353ad9a",
   "metadata": {},
   "outputs": [],
   "source": [
    "def gradient_descent(X, y, w_init, b_init, alpha, iterations):\n",
    "    \"\"\"\n",
    "    Performs gradient descent to optimize model parameters w and b.\n",
    "\n",
    "    Args:\n",
    "        X (ndarray): Input data of shape (m, n), where m is the number of examples and n is the number of features.\n",
    "        y (ndarray): Target values of shape (m,).\n",
    "        w_init (ndarray): Initial values for the model parameters (weights) of shape (n,).\n",
    "        b_init (float): Initial value for the model parameter (bias) scalar.\n",
    "        alpha (float): Learning rate.\n",
    "        iterations (int): Number of iterations to run gradient descent.\n",
    "\n",
    "    Returns:\n",
    "        tuple: Optimized model parameters w (ndarray of shape (n,)) and b (scalar).\n",
    "    \"\"\"\n",
    "    w = w_init.copy()\n",
    "    b = b_init\n",
    "    J_hist = []\n",
    "    for i in range(iterations):\n",
    "        db, dw = compute_gradient(X, y, w, b)\n",
    "        w -= alpha * dw\n",
    "        b -= alpha * db\n",
    "        \n",
    "        curr_cost = compute_cost(X, y, w, b)\n",
    "        J_hist.append(curr_cost)\n",
    "\n",
    "        if i% math.ceil(iterations / 10) == 0:\n",
    "            print(f\"Iteration {i:4d}: Cost {J_hist[-1]:8.2f}   \")\n",
    "\n",
    "    return w, b, J_hist"
   ]
  },
  {
   "cell_type": "markdown",
   "id": "f4551ca7",
   "metadata": {},
   "source": [
    "## Data Transformation & Engineering <a id=\"data-transformation\">"
   ]
  },
  {
   "cell_type": "markdown",
   "id": "e0e3ad90",
   "metadata": {},
   "source": [
    "Remember that we had one categorical column KitchenQual, let's encode it using ordinal encoding strategy."
   ]
  },
  {
   "cell_type": "code",
   "execution_count": 30,
   "id": "6fb113e6",
   "metadata": {},
   "outputs": [],
   "source": [
    "kitchen_qual_mapping = {\n",
    "    'Ex': 3,  # Excellent\n",
    "    'Gd': 2,  # Good\n",
    "    'TA': 1,  # Typical/Average\n",
    "    'Fa': 0   # Fair\n",
    "}\n",
    "\n",
    "df.KitchenQual = df.KitchenQual.map(kitchen_qual_mapping)"
   ]
  },
  {
   "cell_type": "code",
   "execution_count": 31,
   "id": "4d56dcaf",
   "metadata": {},
   "outputs": [
    {
     "data": {
      "text/html": [
       "<div>\n",
       "<style scoped>\n",
       "    .dataframe tbody tr th:only-of-type {\n",
       "        vertical-align: middle;\n",
       "    }\n",
       "\n",
       "    .dataframe tbody tr th {\n",
       "        vertical-align: top;\n",
       "    }\n",
       "\n",
       "    .dataframe thead th {\n",
       "        text-align: right;\n",
       "    }\n",
       "</style>\n",
       "<table border=\"1\" class=\"dataframe\">\n",
       "  <thead>\n",
       "    <tr style=\"text-align: right;\">\n",
       "      <th></th>\n",
       "      <th>OverallQual</th>\n",
       "      <th>GrLivArea</th>\n",
       "      <th>BedroomAbvGr</th>\n",
       "      <th>GarageArea</th>\n",
       "      <th>YearBuilt</th>\n",
       "      <th>KitchenQual</th>\n",
       "      <th>SalePrice</th>\n",
       "    </tr>\n",
       "  </thead>\n",
       "  <tbody>\n",
       "    <tr>\n",
       "      <th>0</th>\n",
       "      <td>7</td>\n",
       "      <td>1710</td>\n",
       "      <td>3</td>\n",
       "      <td>548</td>\n",
       "      <td>2003</td>\n",
       "      <td>2</td>\n",
       "      <td>208500</td>\n",
       "    </tr>\n",
       "    <tr>\n",
       "      <th>1</th>\n",
       "      <td>6</td>\n",
       "      <td>1262</td>\n",
       "      <td>3</td>\n",
       "      <td>460</td>\n",
       "      <td>1976</td>\n",
       "      <td>1</td>\n",
       "      <td>181500</td>\n",
       "    </tr>\n",
       "    <tr>\n",
       "      <th>2</th>\n",
       "      <td>7</td>\n",
       "      <td>1786</td>\n",
       "      <td>3</td>\n",
       "      <td>608</td>\n",
       "      <td>2001</td>\n",
       "      <td>2</td>\n",
       "      <td>223500</td>\n",
       "    </tr>\n",
       "    <tr>\n",
       "      <th>3</th>\n",
       "      <td>7</td>\n",
       "      <td>1717</td>\n",
       "      <td>3</td>\n",
       "      <td>642</td>\n",
       "      <td>1915</td>\n",
       "      <td>2</td>\n",
       "      <td>140000</td>\n",
       "    </tr>\n",
       "    <tr>\n",
       "      <th>4</th>\n",
       "      <td>8</td>\n",
       "      <td>2198</td>\n",
       "      <td>4</td>\n",
       "      <td>836</td>\n",
       "      <td>2000</td>\n",
       "      <td>2</td>\n",
       "      <td>250000</td>\n",
       "    </tr>\n",
       "  </tbody>\n",
       "</table>\n",
       "</div>"
      ],
      "text/plain": [
       "   OverallQual  GrLivArea  BedroomAbvGr  GarageArea  YearBuilt  KitchenQual  \\\n",
       "0            7       1710             3         548       2003            2   \n",
       "1            6       1262             3         460       1976            1   \n",
       "2            7       1786             3         608       2001            2   \n",
       "3            7       1717             3         642       1915            2   \n",
       "4            8       2198             4         836       2000            2   \n",
       "\n",
       "   SalePrice  \n",
       "0     208500  \n",
       "1     181500  \n",
       "2     223500  \n",
       "3     140000  \n",
       "4     250000  "
      ]
     },
     "execution_count": 31,
     "metadata": {},
     "output_type": "execute_result"
    }
   ],
   "source": [
    "df.head()"
   ]
  },
  {
   "cell_type": "markdown",
   "id": "34d99a4f",
   "metadata": {},
   "source": [
    "Let's add new features to the dataset based on some intuitive assumptions:"
   ]
  },
  {
   "cell_type": "code",
   "execution_count": 32,
   "id": "2841cbab",
   "metadata": {},
   "outputs": [],
   "source": [
    "# Create a binary column indicating the presence of a garage\n",
    "df['GaragePresence'] = df['GarageArea'].apply(lambda x: 1 if x > 0 else 0)\n",
    "\n",
    "# Add a new column that squares the 'OverallQual' feature to capture non-linear effects\n",
    "df['OverallQual_Squared'] = df['OverallQual'] ** 2"
   ]
  },
  {
   "cell_type": "markdown",
   "id": "ca19d977",
   "metadata": {},
   "source": [
    "## Training Model<a id=\"training-model\">"
   ]
  },
  {
   "cell_type": "markdown",
   "id": "e90d773d",
   "metadata": {},
   "source": [
    "Next, we will split our dataset into training and validation sets using the train_test_split function from sklearn. A common approach is to allocate around 30% of the data to the validation set. As the dataset size increases, this percentage can be reduced, as long as there is enough data to reliably assess the model's performance on the validation set. The key is ensuring that the validation set is large enough to provide an accurate estimate of the model's accuracy."
   ]
  },
  {
   "cell_type": "code",
   "execution_count": 33,
   "id": "5949f8c9",
   "metadata": {},
   "outputs": [],
   "source": [
    "X_train, X_val, y_train, y_val = train_test_split(df.drop(columns='SalePrice'), df['SalePrice'], random_state=0, test_size=0.3)"
   ]
  },
  {
   "cell_type": "code",
   "execution_count": 34,
   "id": "48d34b6d",
   "metadata": {},
   "outputs": [
    {
     "name": "stdout",
     "output_type": "stream",
     "text": [
      "Iteration    0: Cost 18228165530.84   \n",
      "Iteration  500: Cost 1526231650.60   \n",
      "Iteration 1000: Cost 1371179483.07   \n",
      "Iteration 1500: Cost 1289847941.73   \n",
      "Iteration 2000: Cost 1242864724.27   \n",
      "Iteration 2500: Cost 1212618726.76   \n",
      "Iteration 3000: Cost 1191119596.96   \n",
      "Iteration 3500: Cost 1174647185.62   \n",
      "Iteration 4000: Cost 1161390968.62   \n",
      "Iteration 4500: Cost 1150406484.84   \n"
     ]
    }
   ],
   "source": [
    "w_optim, b_optim, J_hist = gradient_descent(X_train.to_numpy(), y_train.to_numpy(), np.zeros(X_train.shape[1]), 0, 0.000000005, 5000)"
   ]
  },
  {
   "cell_type": "markdown",
   "id": "9db01df8",
   "metadata": {},
   "source": [
    "Let's make the predictions on training and validation set."
   ]
  },
  {
   "cell_type": "code",
   "execution_count": 35,
   "id": "37a13d8f",
   "metadata": {},
   "outputs": [],
   "source": [
    "y_train_pred = predict(X_train.to_numpy(), w_optim, b_optim)\n",
    "y_val_pred = predict(X_val.to_numpy(), w_optim, b_optim)"
   ]
  },
  {
   "cell_type": "markdown",
   "id": "adcb0a3a",
   "metadata": {},
   "source": [
    "To evaluate the linear regression model, we will use the R² score metric. It quantifies how well the model captures the linear relationship in the data by representing the proportion of variance in the dependent variable explained by the independent variables. The R² score ranges from till 1, where 1 indicates a perfect fit. A score of 0 means the model performs no better than simply predicting the mean of the target variable, while a negative score indicates that the model is worse than using the average prediction."
   ]
  },
  {
   "cell_type": "markdown",
   "id": "180432b1",
   "metadata": {},
   "source": [
    "Sklearn library implements `r2_score` metric."
   ]
  },
  {
   "cell_type": "code",
   "execution_count": 36,
   "id": "17250362",
   "metadata": {},
   "outputs": [
    {
     "data": {
      "text/plain": [
       "(0.6258311990049338, 0.540943253328559)"
      ]
     },
     "execution_count": 36,
     "metadata": {},
     "output_type": "execute_result"
    }
   ],
   "source": [
    "r2_train = r2_score(y_train, y_train_pred)\n",
    "r2_val = r2_score(y_val, y_val_pred)\n",
    "\n",
    "r2_train, r2_val"
   ]
  },
  {
   "cell_type": "markdown",
   "id": "82a04e45",
   "metadata": {},
   "source": [
    "Let's see how feature scaling impacts model convergence. We will use Standard Scaler from sklearn library."
   ]
  },
  {
   "cell_type": "code",
   "execution_count": 37,
   "id": "ca8e72c5",
   "metadata": {},
   "outputs": [],
   "source": [
    "scaler = StandardScaler()\n",
    "X_train_scaled = scaler.fit_transform(X_train)\n",
    "X_val_scaled = scaler.transform(X_val)"
   ]
  },
  {
   "cell_type": "markdown",
   "id": "85904cb7",
   "metadata": {},
   "source": [
    "Note that we fit the standard scaler on the training set and then use it to transform both the training and validation datasets. It's crucial to fit the scaler only on the training set to avoid data leakage, which could occur if information from the validation set influences the scaling, leading to overly optimistic model performance estimates."
   ]
  },
  {
   "cell_type": "code",
   "execution_count": 38,
   "id": "f949df91",
   "metadata": {},
   "outputs": [
    {
     "name": "stdout",
     "output_type": "stream",
     "text": [
      "Iteration    0: Cost 19340309206.62   \n",
      "Iteration 1500: Cost 7402733059.55   \n",
      "Iteration 3000: Cost 3376094564.48   \n",
      "Iteration 4500: Cost 1757549293.97   \n",
      "Iteration 6000: Cost 1096330324.37   \n",
      "Iteration 7500: Cost 824450840.98   \n",
      "Iteration 9000: Cost 711508375.46   \n",
      "Iteration 10500: Cost 663705498.44   \n",
      "Iteration 12000: Cost 642781315.11   \n",
      "Iteration 13500: Cost 633081616.62   \n"
     ]
    }
   ],
   "source": [
    "w_optim, b_optim, J_hist = gradient_descent(X_train_scaled, y_train.to_numpy(), np.zeros(X_train_scaled.shape[1]), 0, 0.0003, 15000)"
   ]
  },
  {
   "cell_type": "code",
   "execution_count": 39,
   "id": "fe586af7",
   "metadata": {},
   "outputs": [
    {
     "data": {
      "text/plain": [
       "(0.7940341626628403, 0.7406835861014613)"
      ]
     },
     "execution_count": 39,
     "metadata": {},
     "output_type": "execute_result"
    }
   ],
   "source": [
    "y_train_pred = predict(X_train_scaled, w_optim, b_optim)\n",
    "y_val_pred = predict(X_val_scaled, w_optim, b_optim)\n",
    "\n",
    "r2_score(y_train, y_train_pred), r2_score(y_val, y_val_pred)"
   ]
  },
  {
   "cell_type": "markdown",
   "id": "333798e3",
   "metadata": {},
   "source": [
    "### Scikit-Learn Library for Linear Regression<a id=\"sklearn\">"
   ]
  },
  {
   "cell_type": "markdown",
   "id": "ea250d3b",
   "metadata": {},
   "source": [
    "By now, you should have a solid understanding of how Linear Regression works and how to implement it from scratch. Gaining this foundational knowledge is essential, as it allows you to effectively tune model parameters and apply appropriate data transformations.\n",
    "\n",
    "However, in practice, you will rarely need to implement Linear Regression manually. Instead, you'll rely on existing libraries that provide robust implementations. Your focus will be on preparing the transformed dataset, training the model, and making predictions.\n",
    "\n",
    "One of the most widely used libraries for this is Scikit-learn (sklearn), which offers a simple and efficient implementation of linear regression.\n",
    "\n",
    "Each model is initialized as an instance of the corresponding class (e.g., `model = LinearRegression()`). Once initialized, you can train the model by calling the `fit()` method (`model.fit(X_train, y_train)`), where `X_train` represents the training features and `y_train` the target values. During this process, the model learns the underlying relationship between the input features and the target variable.\n",
    "\n",
    "After training, the `predict()` method (`model.predict(X_test)`) can be used to generate predictions for new or unseen data."
   ]
  },
  {
   "cell_type": "code",
   "execution_count": 40,
   "id": "bf6f1d58",
   "metadata": {},
   "outputs": [
    {
     "data": {
      "text/plain": [
       "(0.8094562033527823, 0.7512407981159588)"
      ]
     },
     "execution_count": 40,
     "metadata": {},
     "output_type": "execute_result"
    }
   ],
   "source": [
    "model = LinearRegression()\n",
    "model.fit(X_train_scaled, y_train)\n",
    "\n",
    "\n",
    "y_train_pred =  model.predict(X_train_scaled)\n",
    "y_val_pred =  model.predict(X_val_scaled)\n",
    "\n",
    "r2_score(y_train, y_train_pred), r2_score(y_val, y_val_pred)"
   ]
  },
  {
   "cell_type": "markdown",
   "id": "03ba1107",
   "metadata": {},
   "source": [
    "Let's try using regularization (Lasso / Ridge Regression):"
   ]
  },
  {
   "cell_type": "code",
   "execution_count": 41,
   "id": "b12e7abb",
   "metadata": {},
   "outputs": [
    {
     "name": "stdout",
     "output_type": "stream",
     "text": [
      "R-squared: 0.7512423450738377\n"
     ]
    }
   ],
   "source": [
    "from sklearn.linear_model import Lasso, Ridge\n",
    "\n",
    "# Initialize and fit the linear regression model\n",
    "model = Lasso()\n",
    "model.fit(X_train_scaled, y_train)\n",
    "\n",
    "# Predict on the test set\n",
    "y_pred = model.predict(X_val_scaled)\n",
    "\n",
    "# Evaluate the model\n",
    "r2 = r2_score(y_val, y_pred)\n",
    "\n",
    "print(\"R-squared:\", r2)"
   ]
  },
  {
   "cell_type": "code",
   "execution_count": 42,
   "id": "cf5584f4",
   "metadata": {},
   "outputs": [
    {
     "name": "stdout",
     "output_type": "stream",
     "text": [
      "R-squared: 0.7511037060469625\n"
     ]
    }
   ],
   "source": [
    "model = Ridge()\n",
    "model.fit(X_train_scaled, y_train)\n",
    "\n",
    "# Predict on the test set\n",
    "y_pred = model.predict(X_val_scaled)\n",
    "\n",
    "# Evaluate the model\n",
    "r2 = r2_score(y_val, y_pred)\n",
    "\n",
    "print(\"R-squared:\", r2)"
   ]
  },
  {
   "cell_type": "markdown",
   "id": "1b3378a3",
   "metadata": {},
   "source": [
    "Regularization doesn't seem to improve model accuracy."
   ]
  },
  {
   "cell_type": "markdown",
   "id": "865ff29b",
   "metadata": {},
   "source": [
    "## Classification<a id=\"classification\">"
   ]
  },
  {
   "cell_type": "markdown",
   "id": "b1546ea1",
   "metadata": {},
   "source": [
    "In linear regression, the model’s output is a continuous number, while in classification, the output is a category. If there are only two classes, it’s referred to as binary classification. If there are more than two classes, it’s called multiclass classification.\n",
    "\n",
    "One of the most popular models for binary classification is called Logistic Regression."
   ]
  },
  {
   "cell_type": "markdown",
   "id": "e3fc7c06",
   "metadata": {},
   "source": [
    "### Logistic Regression"
   ]
  },
  {
   "cell_type": "markdown",
   "id": "5df8132c",
   "metadata": {},
   "source": [
    "A logistic regression model builds upon the familiar linear regression model by applying the sigmoid function, which maps any real-valued number into the range between 0 and 1. This is represented as:\n",
    "\n",
    "$$ f_{\\mathbf{w},b}(\\mathbf{x}^{(i)}) = g(\\mathbf{w} \\cdot \\mathbf{x}^{(i)} + b ) $$\n",
    "\n",
    "where\n",
    "\n",
    "$$ g(z) = \\frac{1}{1+e^{-z}} $$\n",
    "\n",
    "The function \\( g(z) \\), known as the sigmoid function, outputs a value between 0 and 1, representing the probability of the instance belonging to the positive class. Typically, we use a threshold of 0.5 to classify instances: if the probability is below 0.5, the instance is classified as negative; otherwise, it is classified as positive.\n",
    "\n",
    "Below is the implementation of the sigmoid function:"
   ]
  },
  {
   "cell_type": "code",
   "execution_count": 43,
   "id": "1b2afd0d",
   "metadata": {},
   "outputs": [],
   "source": [
    "def sigmoid(z):\n",
    "    return 1 / (1 + np.exp(-z))"
   ]
  },
  {
   "cell_type": "markdown",
   "id": "c8336a59",
   "metadata": {},
   "source": [
    "Let's visualize it for different input values:"
   ]
  },
  {
   "cell_type": "code",
   "execution_count": 44,
   "id": "18b838fc",
   "metadata": {},
   "outputs": [
    {
     "data": {
      "text/plain": [
       "[<matplotlib.lines.Line2D at 0x1ad0b8a21e0>]"
      ]
     },
     "execution_count": 44,
     "metadata": {},
     "output_type": "execute_result"
    },
    {
     "data": {
      "image/png": "[encoded data removed]",
      "text/plain": [
       "<Figure size 640x480 with 1 Axes>"
      ]
     },
     "metadata": {},
     "output_type": "display_data"
    }
   ],
   "source": [
    "z = np.linspace(-7, 7, 51)\n",
    "plt.plot(z, sigmoid(z))"
   ]
  },
  {
   "cell_type": "markdown",
   "id": "5c721000",
   "metadata": {},
   "source": [
    "It can be seen that the results of the sigmoid function are bounded between 0 and 1."
   ]
  },
  {
   "cell_type": "markdown",
   "id": "f92e156c",
   "metadata": {},
   "source": [
    "Below is the implementation of predict function for logistic regression:"
   ]
  },
  {
   "cell_type": "code",
   "execution_count": 45,
   "id": "5a6f3e07",
   "metadata": {},
   "outputs": [],
   "source": [
    "def predict_logistic(x, w, b):\n",
    "    linear_combination = np.dot(x, w) + b\n",
    "    return sigmoid(linear_combination)\n"
   ]
  },
  {
   "cell_type": "markdown",
   "id": "08eff804",
   "metadata": {},
   "source": [
    "## Cost Function"
   ]
  },
  {
   "cell_type": "markdown",
   "id": "6b17190b",
   "metadata": {},
   "source": [
    "Recall that for logistic regression, the cost function is of the form:"
   ]
  },
  {
   "cell_type": "markdown",
   "id": "48db14ea",
   "metadata": {},
   "source": [
    "$$ J(\\mathbf{w},b) = \\frac{1}{m} \\sum_{i=0}^{m-1} \\left[ loss(f_{\\mathbf{w},b}(\\mathbf{x}^{(i)}), y^{(i)}) \\right]$$\n",
    "\n",
    "For a given example $(x^{(i)}, y^{(i)})$, the loss function $L(\\mathbf{w}, b)$ can be written as:\n",
    "\n",
    "$$L(\\mathbf{w}, b) = \\begin{cases} \n",
    "-\\log(f_{\\mathbf{w}, b}(x^{(i)})) & \\text{if } y^{(i)} = 1, \\\\ \n",
    "-\\log(1 - f_{\\mathbf{w}, b}(x^{(i)})) & \\text{if } y^{(i)} = 0. \n",
    "\\end{cases}$$\n",
    "\n",
    "Where:\n",
    "- $f_{\\mathbf{w}, b}(x^{(i)}) = \\frac{1}{1 + e^{-(\\mathbf{w}^T x^{(i)} + b)}}$ is the predicted probability from the sigmoid function.\n",
    "\n",
    "This system expresses the loss as two distinct cases:\n",
    "- When $y^{(i)} = 1$, the model is penalized based on how close the predicted probability $f_{\\mathbf{w}, b}(x^{(i)})$ is to 1.\n",
    "- When $y^{(i)} = 0$, the model is penalized based on how close the predicted probability $f_{\\mathbf{w}, b}(x^{(i)})$ is to 0."
   ]
  },
  {
   "cell_type": "markdown",
   "id": "def11df2",
   "metadata": {},
   "source": [
    "## Gradient Descent\n",
    "\n",
    "Recall the gradient descent algorithm utilizes the gradient calculation:\n",
    "$$\\begin{align*}\n",
    "&\\text{repeat until convergence:} \\; \\lbrace \\\\\n",
    "&  \\; \\; \\;w_j = w_j -  \\alpha \\frac{\\partial J(\\mathbf{w},b)}{\\partial w_j}  \\; & \\text{for j := 0..n-1} \\\\ \n",
    "&  \\; \\; \\;  \\; \\;b = b -  \\alpha \\frac{\\partial J(\\mathbf{w},b)}{\\partial b} \\\\\n",
    "&\\rbrace\n",
    "\\end{align*}$$\n",
    "\n",
    "Below is the gradient calculation formula fo logistic regression. It looks similarly to the linear regression case. Each iteration performs simultaneous updates on $w_j$ for all $j$, where\n",
    "$$\\begin{align*}\n",
    "\\frac{\\partial J(\\mathbf{w},b)}{\\partial w_j}  &= \\frac{1}{m} \\sum\\limits_{i = 0}^{m-1} (f_{\\mathbf{w},b}(\\mathbf{x}^{(i)}) - y^{(i)})x_{j}^{(i)} \\\\\n",
    "\\frac{\\partial J(\\mathbf{w},b)}{\\partial b}  &= \\frac{1}{m} \\sum\\limits_{i = 0}^{m-1} (f_{\\mathbf{w},b}(\\mathbf{x}^{(i)}) - y^{(i)})\n",
    "\\end{align*}$$\n",
    "\n",
    "* m is the number of training examples in the data set      \n",
    "* $f_{\\mathbf{w},b}(x^{(i)})$ is the model's prediction, while $y^{(i)}$ is the target\n",
    "* For a logistic regression model  \n",
    "    $z = \\mathbf{w} \\cdot \\mathbf{x} + b$  \n",
    "    $f_{\\mathbf{w},b}(x) = g(z)$  \n",
    "    where $g(z)$ is the sigmoid function:  \n",
    "    $g(z) = \\frac{1}{1+e^{-z}}$   \n",
    "    \n"
   ]
  },
  {
   "cell_type": "markdown",
   "id": "b57b28d3",
   "metadata": {},
   "source": [
    "Let's train a linear regression model using the university admission dataset, where the goal is to predict admission based on exam scores, leveraging the sklearn library."
   ]
  },
  {
   "cell_type": "code",
   "execution_count": 47,
   "id": "98bd722d",
   "metadata": {},
   "outputs": [],
   "source": [
    "df_exam = pd.read_csv('csv/exam_scores_admission.csv')"
   ]
  },
  {
   "cell_type": "code",
   "execution_count": 48,
   "id": "6f90d00f",
   "metadata": {},
   "outputs": [],
   "source": [
    "X_exam_train, X_exam_val, y_exam_train, y_exam_val = train_test_split(df_exam.drop(columns='admitted'), df_exam['admitted'], random_state=42, train_size=0.7)"
   ]
  },
  {
   "cell_type": "code",
   "execution_count": 49,
   "id": "e236d33f",
   "metadata": {},
   "outputs": [
    {
     "data": {
      "text/html": [
       "<style>#sk-container-id-1 {\n",
       "  /* Definition of color scheme common for light and dark mode */\n",
       "  --sklearn-color-text: black;\n",
       "  --sklearn-color-line: gray;\n",
       "  /* Definition of color scheme for unfitted estimators */\n",
       "  --sklearn-color-unfitted-level-0: #fff5e6;\n",
       "  --sklearn-color-unfitted-level-1: #f6e4d2;\n",
       "  --sklearn-color-unfitted-level-2: #ffe0b3;\n",
       "  --sklearn-color-unfitted-level-3: chocolate;\n",
       "  /* Definition of color scheme for fitted estimators */\n",
       "  --sklearn-color-fitted-level-0: #f0f8ff;\n",
       "  --sklearn-color-fitted-level-1: #d4ebff;\n",
       "  --sklearn-color-fitted-level-2: #b3dbfd;\n",
       "  --sklearn-color-fitted-level-3: cornflowerblue;\n",
       "\n",
       "  /* Specific color for light theme */\n",
       "  --sklearn-color-text-on-default-background: var(--sg-text-color, var(--theme-code-foreground, var(--jp-content-font-color1, black)));\n",
       "  --sklearn-color-background: var(--sg-background-color, var(--theme-background, var(--jp-layout-color0, white)));\n",
       "  --sklearn-color-border-box: var(--sg-text-color, var(--theme-code-foreground, var(--jp-content-font-color1, black)));\n",
       "  --sklearn-color-icon: #696969;\n",
       "\n",
       "  @media (prefers-color-scheme: dark) {\n",
       "    /* Redefinition of color scheme for dark theme */\n",
       "    --sklearn-color-text-on-default-background: var(--sg-text-color, var(--theme-code-foreground, var(--jp-content-font-color1, white)));\n",
       "    --sklearn-color-background: var(--sg-background-color, var(--theme-background, var(--jp-layout-color0, #111)));\n",
       "    --sklearn-color-border-box: var(--sg-text-color, var(--theme-code-foreground, var(--jp-content-font-color1, white)));\n",
       "    --sklearn-color-icon: #878787;\n",
       "  }\n",
       "}\n",
       "\n",
       "#sk-container-id-1 {\n",
       "  color: var(--sklearn-color-text);\n",
       "}\n",
       "\n",
       "#sk-container-id-1 pre {\n",
       "  padding: 0;\n",
       "}\n",
       "\n",
       "#sk-container-id-1 input.sk-hidden--visually {\n",
       "  border: 0;\n",
       "  clip: rect(1px 1px 1px 1px);\n",
       "  clip: rect(1px, 1px, 1px, 1px);\n",
       "  height: 1px;\n",
       "  margin: -1px;\n",
       "  overflow: hidden;\n",
       "  padding: 0;\n",
       "  position: absolute;\n",
       "  width: 1px;\n",
       "}\n",
       "\n",
       "#sk-container-id-1 div.sk-dashed-wrapped {\n",
       "  border: 1px dashed var(--sklearn-color-line);\n",
       "  margin: 0 0.4em 0.5em 0.4em;\n",
       "  box-sizing: border-box;\n",
       "  padding-bottom: 0.4em;\n",
       "  background-color: var(--sklearn-color-background);\n",
       "}\n",
       "\n",
       "#sk-container-id-1 div.sk-container {\n",
       "  /* jupyter's `normalize.less` sets `[hidden] { display: none; }`\n",
       "     but bootstrap.min.css set `[hidden] { display: none !important; }`\n",
       "     so we also need the `!important` here to be able to override the\n",
       "     default hidden behavior on the sphinx rendered scikit-learn.org.\n",
       "     See: https://github.com/scikit-learn/scikit-learn/issues/21755 */\n",
       "  display: inline-block !important;\n",
       "  position: relative;\n",
       "}\n",
       "\n",
       "#sk-container-id-1 div.sk-text-repr-fallback {\n",
       "  display: none;\n",
       "}\n",
       "\n",
       "div.sk-parallel-item,\n",
       "div.sk-serial,\n",
       "div.sk-item {\n",
       "  /* draw centered vertical line to link estimators */\n",
       "  background-image: linear-gradient(var(--sklearn-color-text-on-default-background), var(--sklearn-color-text-on-default-background));\n",
       "  background-size: 2px 100%;\n",
       "  background-repeat: no-repeat;\n",
       "  background-position: center center;\n",
       "}\n",
       "\n",
       "/* Parallel-specific style estimator block */\n",
       "\n",
       "#sk-container-id-1 div.sk-parallel-item::after {\n",
       "  content: \"\";\n",
       "  width: 100%;\n",
       "  border-bottom: 2px solid var(--sklearn-color-text-on-default-background);\n",
       "  flex-grow: 1;\n",
       "}\n",
       "\n",
       "#sk-container-id-1 div.sk-parallel {\n",
       "  display: flex;\n",
       "  align-items: stretch;\n",
       "  justify-content: center;\n",
       "  background-color: var(--sklearn-color-background);\n",
       "  position: relative;\n",
       "}\n",
       "\n",
       "#sk-container-id-1 div.sk-parallel-item {\n",
       "  display: flex;\n",
       "  flex-direction: column;\n",
       "}\n",
       "\n",
       "#sk-container-id-1 div.sk-parallel-item:first-child::after {\n",
       "  align-self: flex-end;\n",
       "  width: 50%;\n",
       "}\n",
       "\n",
       "#sk-container-id-1 div.sk-parallel-item:last-child::after {\n",
       "  align-self: flex-start;\n",
       "  width: 50%;\n",
       "}\n",
       "\n",
       "#sk-container-id-1 div.sk-parallel-item:only-child::after {\n",
       "  width: 0;\n",
       "}\n",
       "\n",
       "/* Serial-specific style estimator block */\n",
       "\n",
       "#sk-container-id-1 div.sk-serial {\n",
       "  display: flex;\n",
       "  flex-direction: column;\n",
       "  align-items: center;\n",
       "  background-color: var(--sklearn-color-background);\n",
       "  padding-right: 1em;\n",
       "  padding-left: 1em;\n",
       "}\n",
       "\n",
       "\n",
       "/* Toggleable style: style used for estimator/Pipeline/ColumnTransformer box that is\n",
       "clickable and can be expanded/collapsed.\n",
       "- Pipeline and ColumnTransformer use this feature and define the default style\n",
       "- Estimators will overwrite some part of the style using the `sk-estimator` class\n",
       "*/\n",
       "\n",
       "/* Pipeline and ColumnTransformer style (default) */\n",
       "\n",
       "#sk-container-id-1 div.sk-toggleable {\n",
       "  /* Default theme specific background. It is overwritten whether we have a\n",
       "  specific estimator or a Pipeline/ColumnTransformer */\n",
       "  background-color: var(--sklearn-color-background);\n",
       "}\n",
       "\n",
       "/* Toggleable label */\n",
       "#sk-container-id-1 label.sk-toggleable__label {\n",
       "  cursor: pointer;\n",
       "  display: block;\n",
       "  width: 100%;\n",
       "  margin-bottom: 0;\n",
       "  padding: 0.5em;\n",
       "  box-sizing: border-box;\n",
       "  text-align: center;\n",
       "}\n",
       "\n",
       "#sk-container-id-1 label.sk-toggleable__label-arrow:before {\n",
       "  /* Arrow on the left of the label */\n",
       "  content: \"▸\";\n",
       "  float: left;\n",
       "  margin-right: 0.25em;\n",
       "  color: var(--sklearn-color-icon);\n",
       "}\n",
       "\n",
       "#sk-container-id-1 label.sk-toggleable__label-arrow:hover:before {\n",
       "  color: var(--sklearn-color-text);\n",
       "}\n",
       "\n",
       "/* Toggleable content - dropdown */\n",
       "\n",
       "#sk-container-id-1 div.sk-toggleable__content {\n",
       "  max-height: 0;\n",
       "  max-width: 0;\n",
       "  overflow: hidden;\n",
       "  text-align: left;\n",
       "  /* unfitted */\n",
       "  background-color: var(--sklearn-color-unfitted-level-0);\n",
       "}\n",
       "\n",
       "#sk-container-id-1 div.sk-toggleable__content.fitted {\n",
       "  /* fitted */\n",
       "  background-color: var(--sklearn-color-fitted-level-0);\n",
       "}\n",
       "\n",
       "#sk-container-id-1 div.sk-toggleable__content pre {\n",
       "  margin: 0.2em;\n",
       "  border-radius: 0.25em;\n",
       "  color: var(--sklearn-color-text);\n",
       "  /* unfitted */\n",
       "  background-color: var(--sklearn-color-unfitted-level-0);\n",
       "}\n",
       "\n",
       "#sk-container-id-1 div.sk-toggleable__content.fitted pre {\n",
       "  /* unfitted */\n",
       "  background-color: var(--sklearn-color-fitted-level-0);\n",
       "}\n",
       "\n",
       "#sk-container-id-1 input.sk-toggleable__control:checked~div.sk-toggleable__content {\n",
       "  /* Expand drop-down */\n",
       "  max-height: 200px;\n",
       "  max-width: 100%;\n",
       "  overflow: auto;\n",
       "}\n",
       "\n",
       "#sk-container-id-1 input.sk-toggleable__control:checked~label.sk-toggleable__label-arrow:before {\n",
       "  content: \"▾\";\n",
       "}\n",
       "\n",
       "/* Pipeline/ColumnTransformer-specific style */\n",
       "\n",
       "#sk-container-id-1 div.sk-label input.sk-toggleable__control:checked~label.sk-toggleable__label {\n",
       "  color: var(--sklearn-color-text);\n",
       "  background-color: var(--sklearn-color-unfitted-level-2);\n",
       "}\n",
       "\n",
       "#sk-container-id-1 div.sk-label.fitted input.sk-toggleable__control:checked~label.sk-toggleable__label {\n",
       "  background-color: var(--sklearn-color-fitted-level-2);\n",
       "}\n",
       "\n",
       "/* Estimator-specific style */\n",
       "\n",
       "/* Colorize estimator box */\n",
       "#sk-container-id-1 div.sk-estimator input.sk-toggleable__control:checked~label.sk-toggleable__label {\n",
       "  /* unfitted */\n",
       "  background-color: var(--sklearn-color-unfitted-level-2);\n",
       "}\n",
       "\n",
       "#sk-container-id-1 div.sk-estimator.fitted input.sk-toggleable__control:checked~label.sk-toggleable__label {\n",
       "  /* fitted */\n",
       "  background-color: var(--sklearn-color-fitted-level-2);\n",
       "}\n",
       "\n",
       "#sk-container-id-1 div.sk-label label.sk-toggleable__label,\n",
       "#sk-container-id-1 div.sk-label label {\n",
       "  /* The background is the default theme color */\n",
       "  color: var(--sklearn-color-text-on-default-background);\n",
       "}\n",
       "\n",
       "/* On hover, darken the color of the background */\n",
       "#sk-container-id-1 div.sk-label:hover label.sk-toggleable__label {\n",
       "  color: var(--sklearn-color-text);\n",
       "  background-color: var(--sklearn-color-unfitted-level-2);\n",
       "}\n",
       "\n",
       "/* Label box, darken color on hover, fitted */\n",
       "#sk-container-id-1 div.sk-label.fitted:hover label.sk-toggleable__label.fitted {\n",
       "  color: var(--sklearn-color-text);\n",
       "  background-color: var(--sklearn-color-fitted-level-2);\n",
       "}\n",
       "\n",
       "/* Estimator label */\n",
       "\n",
       "#sk-container-id-1 div.sk-label label {\n",
       "  font-family: monospace;\n",
       "  font-weight: bold;\n",
       "  display: inline-block;\n",
       "  line-height: 1.2em;\n",
       "}\n",
       "\n",
       "#sk-container-id-1 div.sk-label-container {\n",
       "  text-align: center;\n",
       "}\n",
       "\n",
       "/* Estimator-specific */\n",
       "#sk-container-id-1 div.sk-estimator {\n",
       "  font-family: monospace;\n",
       "  border: 1px dotted var(--sklearn-color-border-box);\n",
       "  border-radius: 0.25em;\n",
       "  box-sizing: border-box;\n",
       "  margin-bottom: 0.5em;\n",
       "  /* unfitted */\n",
       "  background-color: var(--sklearn-color-unfitted-level-0);\n",
       "}\n",
       "\n",
       "#sk-container-id-1 div.sk-estimator.fitted {\n",
       "  /* fitted */\n",
       "  background-color: var(--sklearn-color-fitted-level-0);\n",
       "}\n",
       "\n",
       "/* on hover */\n",
       "#sk-container-id-1 div.sk-estimator:hover {\n",
       "  /* unfitted */\n",
       "  background-color: var(--sklearn-color-unfitted-level-2);\n",
       "}\n",
       "\n",
       "#sk-container-id-1 div.sk-estimator.fitted:hover {\n",
       "  /* fitted */\n",
       "  background-color: var(--sklearn-color-fitted-level-2);\n",
       "}\n",
       "\n",
       "/* Specification for estimator info (e.g. \"i\" and \"?\") */\n",
       "\n",
       "/* Common style for \"i\" and \"?\" */\n",
       "\n",
       ".sk-estimator-doc-link,\n",
       "a:link.sk-estimator-doc-link,\n",
       "a:visited.sk-estimator-doc-link {\n",
       "  float: right;\n",
       "  font-size: smaller;\n",
       "  line-height: 1em;\n",
       "  font-family: monospace;\n",
       "  background-color: var(--sklearn-color-background);\n",
       "  border-radius: 1em;\n",
       "  height: 1em;\n",
       "  width: 1em;\n",
       "  text-decoration: none !important;\n",
       "  margin-left: 1ex;\n",
       "  /* unfitted */\n",
       "  border: var(--sklearn-color-unfitted-level-1) 1pt solid;\n",
       "  color: var(--sklearn-color-unfitted-level-1);\n",
       "}\n",
       "\n",
       ".sk-estimator-doc-link.fitted,\n",
       "a:link.sk-estimator-doc-link.fitted,\n",
       "a:visited.sk-estimator-doc-link.fitted {\n",
       "  /* fitted */\n",
       "  border: var(--sklearn-color-fitted-level-1) 1pt solid;\n",
       "  color: var(--sklearn-color-fitted-level-1);\n",
       "}\n",
       "\n",
       "/* On hover */\n",
       "div.sk-estimator:hover .sk-estimator-doc-link:hover,\n",
       ".sk-estimator-doc-link:hover,\n",
       "div.sk-label-container:hover .sk-estimator-doc-link:hover,\n",
       ".sk-estimator-doc-link:hover {\n",
       "  /* unfitted */\n",
       "  background-color: var(--sklearn-color-unfitted-level-3);\n",
       "  color: var(--sklearn-color-background);\n",
       "  text-decoration: none;\n",
       "}\n",
       "\n",
       "div.sk-estimator.fitted:hover .sk-estimator-doc-link.fitted:hover,\n",
       ".sk-estimator-doc-link.fitted:hover,\n",
       "div.sk-label-container:hover .sk-estimator-doc-link.fitted:hover,\n",
       ".sk-estimator-doc-link.fitted:hover {\n",
       "  /* fitted */\n",
       "  background-color: var(--sklearn-color-fitted-level-3);\n",
       "  color: var(--sklearn-color-background);\n",
       "  text-decoration: none;\n",
       "}\n",
       "\n",
       "/* Span, style for the box shown on hovering the info icon */\n",
       ".sk-estimator-doc-link span {\n",
       "  display: none;\n",
       "  z-index: 9999;\n",
       "  position: relative;\n",
       "  font-weight: normal;\n",
       "  right: .2ex;\n",
       "  padding: .5ex;\n",
       "  margin: .5ex;\n",
       "  width: min-content;\n",
       "  min-width: 20ex;\n",
       "  max-width: 50ex;\n",
       "  color: var(--sklearn-color-text);\n",
       "  box-shadow: 2pt 2pt 4pt #999;\n",
       "  /* unfitted */\n",
       "  background: var(--sklearn-color-unfitted-level-0);\n",
       "  border: .5pt solid var(--sklearn-color-unfitted-level-3);\n",
       "}\n",
       "\n",
       ".sk-estimator-doc-link.fitted span {\n",
       "  /* fitted */\n",
       "  background: var(--sklearn-color-fitted-level-0);\n",
       "  border: var(--sklearn-color-fitted-level-3);\n",
       "}\n",
       "\n",
       ".sk-estimator-doc-link:hover span {\n",
       "  display: block;\n",
       "}\n",
       "\n",
       "/* \"?\"-specific style due to the `<a>` HTML tag */\n",
       "\n",
       "#sk-container-id-1 a.estimator_doc_link {\n",
       "  float: right;\n",
       "  font-size: 1rem;\n",
       "  line-height: 1em;\n",
       "  font-family: monospace;\n",
       "  background-color: var(--sklearn-color-background);\n",
       "  border-radius: 1rem;\n",
       "  height: 1rem;\n",
       "  width: 1rem;\n",
       "  text-decoration: none;\n",
       "  /* unfitted */\n",
       "  color: var(--sklearn-color-unfitted-level-1);\n",
       "  border: var(--sklearn-color-unfitted-level-1) 1pt solid;\n",
       "}\n",
       "\n",
       "#sk-container-id-1 a.estimator_doc_link.fitted {\n",
       "  /* fitted */\n",
       "  border: var(--sklearn-color-fitted-level-1) 1pt solid;\n",
       "  color: var(--sklearn-color-fitted-level-1);\n",
       "}\n",
       "\n",
       "/* On hover */\n",
       "#sk-container-id-1 a.estimator_doc_link:hover {\n",
       "  /* unfitted */\n",
       "  background-color: var(--sklearn-color-unfitted-level-3);\n",
       "  color: var(--sklearn-color-background);\n",
       "  text-decoration: none;\n",
       "}\n",
       "\n",
       "#sk-container-id-1 a.estimator_doc_link.fitted:hover {\n",
       "  /* fitted */\n",
       "  background-color: var(--sklearn-color-fitted-level-3);\n",
       "}\n",
       "</style><div id=\"sk-container-id-1\" class=\"sk-top-container\"><div class=\"sk-text-repr-fallback\"><pre>LogisticRegression()</pre><b>In a Jupyter environment, please rerun this cell to show the HTML representation or trust the notebook. <br />On GitHub, the HTML representation is unable to render, please try loading this page with nbviewer.org.</b></div><div class=\"sk-container\" hidden><div class=\"sk-item\"><div class=\"sk-estimator fitted sk-toggleable\"><input class=\"sk-toggleable__control sk-hidden--visually\" id=\"sk-estimator-id-1\" type=\"checkbox\" checked><label for=\"sk-estimator-id-1\" class=\"sk-toggleable__label fitted sk-toggleable__label-arrow fitted\">&nbsp;&nbsp;LogisticRegression<a class=\"sk-estimator-doc-link fitted\" rel=\"noreferrer\" target=\"_blank\" href=\"https://scikit-learn.org/1.5/modules/generated/sklearn.linear_model.LogisticRegression.html\">?<span>Documentation for LogisticRegression</span></a><span class=\"sk-estimator-doc-link fitted\">i<span>Fitted</span></span></label><div class=\"sk-toggleable__content fitted\"><pre>LogisticRegression()</pre></div> </div></div></div></div>"
      ],
      "text/plain": [
       "LogisticRegression()"
      ]
     },
     "execution_count": 49,
     "metadata": {},
     "output_type": "execute_result"
    }
   ],
   "source": [
    "model = LogisticRegression()\n",
    "\n",
    "model.fit(X_exam_train, y_exam_train)"
   ]
  },
  {
   "cell_type": "code",
   "execution_count": 50,
   "id": "d5e7ba63",
   "metadata": {},
   "outputs": [],
   "source": [
    "pred_train = model.predict(X_exam_train)\n",
    "pred_val = model.predict(X_exam_val)"
   ]
  },
  {
   "cell_type": "code",
   "execution_count": 51,
   "id": "11c2f03a",
   "metadata": {},
   "outputs": [
    {
     "data": {
      "text/plain": [
       "(0.8857142857142857, 0.8666666666666667)"
      ]
     },
     "execution_count": 51,
     "metadata": {},
     "output_type": "execute_result"
    }
   ],
   "source": [
    "acc_train = accuracy_score(y_exam_train, pred_train)\n",
    "acc_val = accuracy_score(y_exam_val, pred_val)\n",
    "\n",
    "acc_train, acc_val"
   ]
  }
 ],
 "metadata": {
  "kernelspec": {
   "display_name": "Python 3",
   "language": "python",
   "name": "python3"
  },
  "language_info": {
   "codemirror_mode": {
    "name": "ipython",
    "version": 3
   },
   "file_extension": ".py",
   "mimetype": "text/x-python",
   "name": "python",
   "nbconvert_exporter": "python",
   "pygments_lexer": "ipython3",
   "version": "3.12.5"
  }
 },
 "nbformat": 4,
 "nbformat_minor": 5
}
